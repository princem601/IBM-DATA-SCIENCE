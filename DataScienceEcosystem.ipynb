{
 "cells": [
  {
   "cell_type": "markdown",
   "id": "7a841c01-9304-4231-aeb3-749fe5408a5d",
   "metadata": {},
   "source": [
    "# Data Science Tools and Ecosystem"
   ]
  },
  {
   "cell_type": "markdown",
   "id": "ba6c0183-4e45-48b5-879a-471aebf5e562",
   "metadata": {},
   "source": [
    "In this notebook, data science tools and ecosystem are summarized."
   ]
  },
  {
   "cell_type": "markdown",
   "id": "fa919172-acd0-4fe3-bb1c-48c5e40860ef",
   "metadata": {},
   "source": [
    "**OBJECTIVES:**\n",
    "* List popular langauges for data science\n",
    "* List popular libraries for data science\n",
    "* Create a table for data science tools\n",
    "* Demomnstrate arithmetic operations in python\n",
    "* Share a jupyter notebook on github"
   ]
  },
  {
   "cell_type": "markdown",
   "id": "2489ef92-e14d-46a1-80d8-277c1cc0504f",
   "metadata": {},
   "source": [
    "Some  of the popular languages that data scientists use are:\n",
    "1. Python\n",
    "2. R\n",
    "3. SQL"
   ]
  },
  {
   "cell_type": "markdown",
   "id": "db66e36c-846b-4799-8dd2-d1f980b77626",
   "metadata": {},
   "source": [
    "Some of the commonly used libraries used by data scientists inculde:\n",
    "1. Numpy.\n",
    "2. Pandas\n",
    "3. Matplotlib\n",
    "4. TensorFlow\n",
    "5. PyTorch"
   ]
  },
  {
   "cell_type": "markdown",
   "id": "87179ffb-df46-47a5-b0c7-2db51c103e04",
   "metadata": {},
   "source": [
    "| data science tools |\n",
    "|--------------------|\n",
    "|Jupyter notebook    |\n",
    "|RStudio             |\n",
    "|VSCODE              |"
   ]
  },
  {
   "cell_type": "markdown",
   "id": "70409618-c183-46d1-b454-3872b1c0dac0",
   "metadata": {},
   "source": [
    "### Below are a few examples of evaluating arithmetic expressions in Python."
   ]
  },
  {
   "cell_type": "code",
   "execution_count": 5,
   "id": "5b4d8d90-b565-41ae-8075-369729e7ad2c",
   "metadata": {},
   "outputs": [
    {
     "data": {
      "text/plain": [
       "17"
      ]
     },
     "execution_count": 5,
     "metadata": {},
     "output_type": "execute_result"
    }
   ],
   "source": [
    "# this is a simple arithmetic expression to multiply then add integers. \n",
    "(3*4)+5"
   ]
  },
  {
   "cell_type": "code",
   "execution_count": 6,
   "id": "0e6efc85-4c60-43ba-9b9d-dfc69e557235",
   "metadata": {},
   "outputs": [
    {
     "data": {
      "text/plain": [
       "3.3333333333333335"
      ]
     },
     "execution_count": 6,
     "metadata": {},
     "output_type": "execute_result"
    }
   ],
   "source": [
    "# This will convert 200 minutes to hours by dividing by 60.\n",
    "200/60"
   ]
  },
  {
   "cell_type": "markdown",
   "id": "c86e1984-0f88-4a89-975d-408fe4e81aca",
   "metadata": {},
   "source": [
    "## Author\n",
    "Prince Marwa"
   ]
  },
  {
   "cell_type": "code",
   "execution_count": null,
   "id": "9508eb9e-5a55-43f2-a21a-1b0a07efa8fb",
   "metadata": {},
   "outputs": [],
   "source": []
  }
 ],
 "metadata": {
  "kernelspec": {
   "display_name": "Python [conda env:base] *",
   "language": "python",
   "name": "conda-base-py"
  },
  "language_info": {
   "codemirror_mode": {
    "name": "ipython",
    "version": 3
   },
   "file_extension": ".py",
   "mimetype": "text/x-python",
   "name": "python",
   "nbconvert_exporter": "python",
   "pygments_lexer": "ipython3",
   "version": "3.13.5"
  }
 },
 "nbformat": 4,
 "nbformat_minor": 5
}
